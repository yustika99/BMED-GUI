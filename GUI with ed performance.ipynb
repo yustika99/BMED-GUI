{
 "cells": [
  {
   "cell_type": "code",
   "execution_count": 4,
   "id": "9cbce78f",
   "metadata": {},
   "outputs": [
    {
     "name": "stdout",
     "output_type": "stream",
     "text": [
      "* Running on local URL:  http://127.0.0.1:7863\n",
      "* To create a public link, set `share=True` in `launch()`.\n"
     ]
    },
    {
     "data": {
      "text/html": [
       "<div><iframe src=\"http://127.0.0.1:7863/\" width=\"100%\" height=\"500\" allow=\"autoplay; camera; microphone; clipboard-read; clipboard-write;\" frameborder=\"0\" allowfullscreen></iframe></div>"
      ],
      "text/plain": [
       "<IPython.core.display.HTML object>"
      ]
     },
     "metadata": {},
     "output_type": "display_data"
    },
    {
     "data": {
      "text/plain": []
     },
     "execution_count": 4,
     "metadata": {},
     "output_type": "execute_result"
    }
   ],
   "source": [
    "import gradio as gr\n",
    "import numpy as np\n",
    "import pandas as pd\n",
    "import joblib\n",
    "from sklearn.base import BaseEstimator, RegressorMixin\n",
    "\n",
    "# --- Define Ensemble Model class ---\n",
    "class EnsembleModel(BaseEstimator, RegressorMixin):\n",
    "    def __init__(self, model1, model2, weight1=0.5, weight2=0.5):\n",
    "        self.model1 = model1\n",
    "        self.model2 = model2\n",
    "        self.weight1 = weight1\n",
    "        self.weight2 = weight2\n",
    "\n",
    "    def predict(self, X):\n",
    "        return self.weight1 * self.model1.predict(X) + self.weight2 * self.model2.predict(X)\n",
    "\n",
    "# --- Load Model and Scaler ---\n",
    "best_pipe = joblib.load('ensemble_ann_rf_model.joblib')\n",
    "y_scaler = joblib.load('y_scaler.joblib')\n",
    "\n",
    "target_names = [\"[Li]\", \"V of base\", \"[SO4]\", \"V of acid\", \"V of feed\", \"Voltage output\"]\n",
    "\n",
    "# --- Prediction + Performance Function ---\n",
    "def predict_and_calculate(c_feed, flow_rate, current, time):\n",
    "    input_sample = np.array([[c_feed, flow_rate, current, time]])\n",
    "    predicted_scaled = best_pipe.predict(input_sample)\n",
    "    predicted_outputs = y_scaler.inverse_transform(predicted_scaled)[0]\n",
    "    pred = dict(zip(target_names, predicted_outputs))\n",
    "\n",
    "    # Extract predictions and convert volume units\n",
    "    Ct_li   = pred[\"[Li]\"]\n",
    "    Vt_base = pred[\"V of base\"] / 1000\n",
    "    Ct_so4  = pred[\"[SO4]\"]\n",
    "    Vt_acid = pred[\"V of acid\"] / 1000\n",
    "    Vt_feed = pred[\"V of feed\"] / 1000\n",
    "\n",
    "    # Constants\n",
    "    F = 96485\n",
    "    M_LiOH = 0.024\n",
    "    M_H2SO4 = 0.098\n",
    "    C0_Li = 0.1\n",
    "    V0_Base = 0.5\n",
    "    C0_SO4 = 0.05\n",
    "    V0_Acid = 0.5\n",
    "    V0_Feed = 0.5\n",
    "    C0_Li_in_Feed = c_feed * 2\n",
    "    C0_SO4_in_Feed = c_feed * 1\n",
    "\n",
    "    # Simulate voltage profile for integration\n",
    "    time_minutes = np.arange(0, time + 5, 5)\n",
    "    time_seconds = time_minutes * 60\n",
    "    sim_inputs = np.array([[c_feed, flow_rate, current, t] for t in time_minutes])\n",
    "    sim_pred_scaled = best_pipe.predict(sim_inputs)\n",
    "    sim_outputs = y_scaler.inverse_transform(sim_pred_scaled)\n",
    "    voltage_profile = sim_outputs[:, target_names.index(\"Voltage output\")]\n",
    "\n",
    "    # Energy and recovery metrics\n",
    "    integral_U_dt = np.trapezoid(voltage_profile, time_seconds)\n",
    "    energy_joules = current * integral_U_dt\n",
    "    energy_kWh = energy_joules / 3.6e6\n",
    "\n",
    "    mol_Li = Ct_li * Vt_base - C0_Li * V0_Base\n",
    "    mol_SO4 = Ct_so4 * Vt_acid - C0_SO4 * V0_Acid\n",
    "    mass_LiOH = mol_Li * M_LiOH\n",
    "    mass_H2SO4 = mol_SO4 * M_H2SO4\n",
    "    sec_LiOH = energy_kWh / mass_LiOH if mass_LiOH > 0 else np.nan\n",
    "    sec_H2SO4 = energy_kWh / mass_H2SO4 if mass_H2SO4 > 0 else np.nan\n",
    "\n",
    "    rec_Li = mol_Li / (C0_Li_in_Feed * V0_Feed) * 100\n",
    "    rec_SO4 = mol_SO4 / (C0_SO4_in_Feed * V0_Feed) * 100\n",
    "\n",
    "    # Predicted output table (excluding voltage)\n",
    "    pred_df = pd.DataFrame({\n",
    "        \"Predicted Output\": [\"[Li] (M)\", \"V of base (mL)\", \"[SO4] (M)\", \"V of acid (mL)\", \"V of feed (mL)\"],\n",
    "        \"Value\": [f\"{pred['[Li]']:.3f}\", f\"{pred['V of base']:.3f}\", f\"{pred['[SO4]']:.3f}\",\n",
    "                  f\"{pred['V of acid']:.3f}\", f\"{pred['V of feed']:.3f}\"]\n",
    "    })\n",
    "\n",
    "    # Performance metrics table\n",
    "    perf_df = pd.DataFrame({\n",
    "        \"Metric\": [\n",
    "            \"SEC (LiOH, kWh/kg)\", \"SEC (H2SO4, kWh/kg)\",\n",
    "            \"Recovery (Li⁺, %)\", \"Recovery (SO₄²⁻, %)\"\n",
    "        ],\n",
    "        \"Value\": [\n",
    "            f\"{sec_LiOH:.2f}\", f\"{sec_H2SO4:.2f}\",\n",
    "            f\"{rec_Li:.2f}\", f\"{rec_SO4:.2f}\"\n",
    "        ]\n",
    "    })\n",
    "\n",
    "    return pred_df, perf_df\n",
    "\n",
    "# --- Gradio Interface ---\n",
    "with gr.Blocks(title=\"ED GUI - Ensemble Model\") as demo:\n",
    "    gr.Markdown(\"<h2 style='font-size: 28px;'>Electrodialysis Output + Performance Estimator (ANN + RF Ensemble)</h2>\")\n",
    "\n",
    "    with gr.Row():\n",
    "        c_feed = gr.Slider(0.5, 1.5, step=0.05, value=0.75, label=\"Feed Concentration (M)\")\n",
    "        flow_rate = gr.Slider(0.8, 1.2, step=0.1, value=1.0, label=\"Flow Rate (LPM)\")\n",
    "        current = gr.Slider(1.0, 2.0, step=0.05, value=1.5, label=\"Current (A)\")\n",
    "        time = gr.Slider(10, 180, step=5, value=60, label=\"Running Time (min)\")\n",
    "\n",
    "    with gr.Row():\n",
    "        out_pred = gr.Dataframe(label=\"Predicted Outputs\")\n",
    "        out_perf = gr.Dataframe(label=\"Performance Metrics\")\n",
    "\n",
    "    run_button = gr.Button(\"Run Prediction\")\n",
    "\n",
    "    run_button.click(\n",
    "        fn=predict_and_calculate,\n",
    "        inputs=[c_feed, flow_rate, current, time],\n",
    "        outputs=[out_pred, out_perf]\n",
    "    )\n",
    "\n",
    "demo.launch(inline=True)\n"
   ]
  }
 ],
 "metadata": {
  "kernelspec": {
   "display_name": "yustika1",
   "language": "python",
   "name": "python3"
  },
  "language_info": {
   "codemirror_mode": {
    "name": "ipython",
    "version": 3
   },
   "file_extension": ".py",
   "mimetype": "text/x-python",
   "name": "python",
   "nbconvert_exporter": "python",
   "pygments_lexer": "ipython3",
   "version": "3.11.11"
  }
 },
 "nbformat": 4,
 "nbformat_minor": 5
}
